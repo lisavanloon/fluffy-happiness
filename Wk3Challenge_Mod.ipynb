{
  "nbformat": 4,
  "nbformat_minor": 0,
  "metadata": {
    "colab": {
      "name": "Wk3Challenge_Mod.ipynb",
      "provenance": [],
      "collapsed_sections": [],
      "include_colab_link": true
    },
    "kernelspec": {
      "name": "python3",
      "display_name": "Python 3"
    }
  },
  "cells": [
    {
      "cell_type": "markdown",
      "metadata": {
        "id": "view-in-github",
        "colab_type": "text"
      },
      "source": [
        "<a href=\"https://colab.research.google.com/github/lisavanloon/fluffy-happiness/blob/master/Wk3Challenge_Mod.ipynb\" target=\"_parent\"><img src=\"https://colab.research.google.com/assets/colab-badge.svg\" alt=\"Open In Colab\"/></a>"
      ]
    },
    {
      "cell_type": "markdown",
      "metadata": {
        "id": "ARj3EznGcDh1"
      },
      "source": [
        "In this challenge, you're going to manually choose which features to include in a linear model. The code below is set up to make it easy for you to choose features and record the R-Squared and the average Cross Validation score."
      ]
    },
    {
      "cell_type": "code",
      "metadata": {
        "colab": {
          "base_uri": "https://localhost:8080/"
        },
        "id": "eC8vpC43cCv4",
        "outputId": "29d143f7-571e-46ac-cb73-4a0f66d84406"
      },
      "source": [
        "import numpy as np\n",
        "import pandas as pd\n",
        "from sklearn.model_selection import cross_val_score\n",
        "from sklearn.model_selection import cross_validate\n",
        "from sklearn.linear_model import LinearRegression\n",
        "import statsmodels.api as sm\n",
        "\n",
        "birth = pd.read_csv(\"https://raw.githubusercontent.com/DS-Without-Tears/DS-Without-Tears/main/data/Birthweight_reduced_R.csv\")\n",
        "birth.columns"
      ],
      "execution_count": null,
      "outputs": [
        {
          "output_type": "stream",
          "text": [
            "/usr/local/lib/python3.7/dist-packages/statsmodels/tools/_testing.py:19: FutureWarning: pandas.util.testing is deprecated. Use the functions in the public API at pandas.testing instead.\n",
            "  import pandas.util.testing as tm\n"
          ],
          "name": "stderr"
        },
        {
          "output_type": "execute_result",
          "data": {
            "text/plain": [
              "Index(['id', 'headcircumference', 'length', 'Birthweight', 'Gestation',\n",
              "       'smoker', 'motherage', 'mnocig', 'mheight', 'mppwt', 'fage', 'fedyrs',\n",
              "       'fnocig', 'fheight', 'lowbwt', 'mage35', 'LowBirthWeight'],\n",
              "      dtype='object')"
            ]
          },
          "metadata": {
            "tags": []
          },
          "execution_count": 1
        }
      ]
    },
    {
      "cell_type": "code",
      "metadata": {
        "id": "Mcfrvj3ddA-O"
      },
      "source": [
        "# Let's only use the important columns.\n",
        "# id is just a unique identifier\n",
        "# lowbwt and LowBirthWeight are transformations of the Birthweight column\n",
        "birth = birth[['headcircumference', 'length', 'Birthweight', 'Gestation',\n",
        "       'smoker', 'motherage', 'mnocig', 'mheight', 'mppwt', 'fage', 'fedyrs',\n",
        "       'fnocig', 'fheight', 'mage35']]\n",
        "\n",
        "record_of_columns = np.array([])\n",
        "record_of_Rsq = np.array([])\n",
        "record_of_cv = np.array([])\n"
      ],
      "execution_count": null,
      "outputs": []
    },
    {
      "cell_type": "markdown",
      "metadata": {
        "id": "ExrlNMl_dp4_"
      },
      "source": [
        "The following line of code can be changed until you're happy with the model!"
      ]
    },
    {
      "cell_type": "code",
      "metadata": {
        "colab": {
          "base_uri": "https://localhost:8080/"
        },
        "id": "kbqvkJHZddm7",
        "outputId": "385d28d1-8fcf-486c-e5a6-90aa72fac611"
      },
      "source": [
        "# You do NOT need to start with these!\n",
        "vars_to_use = ['headcircumference', 'smoker', 'motherage', 'mnocig', 'mheight', \n",
        "           'fage', 'fedyrs', 'fnocig']\n",
        "# record your choice of columns (\". \"join(x) puts \", \" in between each element of x and makes it a single string)\n",
        "record_of_columns = np.append(record_of_columns, \", \".join(vars_to_use))\n",
        "X = birth[vars_to_use]\n",
        "y = birth[\"Birthweight\"]\n",
        "\n",
        "# Calculate the R squared value (adjusted since this is multiple regression)\n",
        "model1 = sm.OLS(y, sm.add_constant(X)).fit()\n",
        "Rsq = model1.rsquared_adj \n",
        "record_of_Rsq = np.append(record_of_Rsq, Rsq)\n",
        "print(\"R squared =\", Rsq)\n",
        "\n",
        "# Calculate CV score (VERY different from R squared)\n",
        "LR_setup = LinearRegression()\n",
        "cv_scores = cross_val_score(LR_setup, X, y, cv = 5)\n",
        "cv = np.mean(cv_scores)\n",
        "record_of_cv = np.append(record_of_cv, cv)\n",
        "print(\"Cross validation =\", cv)"
      ],
      "execution_count": null,
      "outputs": [
        {
          "output_type": "stream",
          "text": [
            "R squared = 0.5214834708485984\n",
            "Cross validation = -0.12530914014021094\n"
          ],
          "name": "stdout"
        }
      ]
    },
    {
      "cell_type": "markdown",
      "metadata": {
        "id": "f9JcyGjuh2tC"
      },
      "source": [
        "After you've run the chunk above a couple of times, the following code will remind you of the results you got!"
      ]
    },
    {
      "cell_type": "code",
      "metadata": {
        "colab": {
          "base_uri": "https://localhost:8080/",
          "height": 81
        },
        "id": "AcUAjYBLfBvw",
        "outputId": "07868bff-66f5-4f07-bfb5-b5b90bdd055c"
      },
      "source": [
        "pd.DataFrame({\"columns\": record_of_columns, \"Rsq\": record_of_Rsq, \"cv\": record_of_cv})"
      ],
      "execution_count": null,
      "outputs": [
        {
          "output_type": "execute_result",
          "data": {
            "text/html": [
              "<div>\n",
              "<style scoped>\n",
              "    .dataframe tbody tr th:only-of-type {\n",
              "        vertical-align: middle;\n",
              "    }\n",
              "\n",
              "    .dataframe tbody tr th {\n",
              "        vertical-align: top;\n",
              "    }\n",
              "\n",
              "    .dataframe thead th {\n",
              "        text-align: right;\n",
              "    }\n",
              "</style>\n",
              "<table border=\"1\" class=\"dataframe\">\n",
              "  <thead>\n",
              "    <tr style=\"text-align: right;\">\n",
              "      <th></th>\n",
              "      <th>columns</th>\n",
              "      <th>Rsq</th>\n",
              "      <th>cv</th>\n",
              "    </tr>\n",
              "  </thead>\n",
              "  <tbody>\n",
              "    <tr>\n",
              "      <th>0</th>\n",
              "      <td>headcircumference, smoker, motherage, mnocig, ...</td>\n",
              "      <td>0.521483</td>\n",
              "      <td>-0.125309</td>\n",
              "    </tr>\n",
              "  </tbody>\n",
              "</table>\n",
              "</div>"
            ],
            "text/plain": [
              "                                             columns       Rsq        cv\n",
              "0  headcircumference, smoker, motherage, mnocig, ...  0.521483 -0.125309"
            ]
          },
          "metadata": {
            "tags": []
          },
          "execution_count": 5
        }
      ]
    },
    {
      "cell_type": "markdown",
      "metadata": {
        "id": "uJ5oYGoliBoI"
      },
      "source": [
        "To submit this challenge, write the variables in your final model, your process for choosing those variables, and whether you focused more on R squared or cross validation score. There are no right answers, I just want to know your process!"
      ]
    }
  ]
}